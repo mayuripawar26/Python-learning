{
  "nbformat": 4,
  "nbformat_minor": 0,
  "metadata": {
    "colab": {
      "provenance": []
    },
    "kernelspec": {
      "name": "python3",
      "display_name": "Python 3"
    },
    "language_info": {
      "name": "python"
    }
  },
  "cells": [
    {
      "cell_type": "code",
      "source": [
        "#upper case and lower case\n",
        "name = \"Tony Stark\"\n",
        "print(\"upper case name is:\", name.upper())\n",
        "\n",
        "print(\"lower case name is:\", name.lower())\n",
        "\n",
        "\n"
      ],
      "metadata": {
        "colab": {
          "base_uri": "https://localhost:8080/"
        },
        "id": "t-pct611XSNp",
        "outputId": "b6c86fc1-2115-49ab-c8a3-75b52dd7827f"
      },
      "execution_count": 4,
      "outputs": [
        {
          "output_type": "stream",
          "name": "stdout",
          "text": [
            "upper case name is: TONY STARK\n",
            "lower case name is: tony stark\n"
          ]
        }
      ]
    },
    {
      "cell_type": "code",
      "source": [
        "#find\n",
        "\n",
        "print(name.find('y'))\n",
        "\n",
        "print(name.find(\"stark\"))"
      ],
      "metadata": {
        "colab": {
          "base_uri": "https://localhost:8080/"
        },
        "id": "MbrrH-6OhLBs",
        "outputId": "d84c7088-a977-4951-9b6f-dfe656bced74"
      },
      "execution_count": 6,
      "outputs": [
        {
          "output_type": "stream",
          "name": "stdout",
          "text": [
            "3\n",
            "-1\n"
          ]
        }
      ]
    },
    {
      "cell_type": "code",
      "source": [
        "#replace\n",
        "print(name.replace(\"Tony Stark\", \"Ironman\"))\n",
        "print(name)"
      ],
      "metadata": {
        "colab": {
          "base_uri": "https://localhost:8080/"
        },
        "id": "L7aRcIVhhbWW",
        "outputId": "da415066-ba86-448b-a27c-10d150d65ee6"
      },
      "execution_count": 7,
      "outputs": [
        {
          "output_type": "stream",
          "name": "stdout",
          "text": [
            "Ironman\n",
            "Tony Stark\n"
          ]
        }
      ]
    },
    {
      "cell_type": "code",
      "source": [
        "#to check if a character/string is part of the main string\n",
        "print(\"Stark\" in name)\n",
        "print(\"S\" in name)\n",
        "print(\"s\" in name)"
      ],
      "metadata": {
        "colab": {
          "base_uri": "https://localhost:8080/"
        },
        "id": "5qn592f_hqml",
        "outputId": "b618175f-7a2a-4a7a-f9c8-b9284bdf0bd3"
      },
      "execution_count": 8,
      "outputs": [
        {
          "output_type": "stream",
          "name": "stdout",
          "text": [
            "True\n",
            "True\n",
            "False\n"
          ]
        }
      ]
    }
  ]
}