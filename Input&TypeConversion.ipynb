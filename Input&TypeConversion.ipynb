{
  "nbformat": 4,
  "nbformat_minor": 0,
  "metadata": {
    "colab": {
      "provenance": []
    },
    "kernelspec": {
      "name": "python3",
      "display_name": "Python 3"
    },
    "language_info": {
      "name": "python"
    }
  },
  "cells": [
    {
      "cell_type": "markdown",
      "source": [
        "Taking Input from user!!"
      ],
      "metadata": {
        "id": "znoRoEYEUT1f"
      }
    },
    {
      "cell_type": "code",
      "source": [
        "name = input(\"what is your name?\")\n",
        "print(\"hello...\"+ name)\n",
        "print(\"welcome to our company profile!\")"
      ],
      "metadata": {
        "colab": {
          "base_uri": "https://localhost:8080/"
        },
        "id": "Q3SXepcfUe9-",
        "outputId": "3a511748-15c9-4984-d54e-18c8854edd37"
      },
      "execution_count": 3,
      "outputs": [
        {
          "output_type": "stream",
          "name": "stdout",
          "text": [
            "what is your name?mayuri\n",
            "hello...mayuri\n",
            "welcome to our company profile!\n"
          ]
        }
      ]
    },
    {
      "cell_type": "code",
      "source": [
        "#example 2\n",
        "superhero = input(\"what is your superhero name? \")\n",
        "print(superhero)"
      ],
      "metadata": {
        "colab": {
          "base_uri": "https://localhost:8080/"
        },
        "id": "v4-68tqAU2bT",
        "outputId": "9a7ba233-c804-4633-ce27-e779a6ca11e7"
      },
      "execution_count": 4,
      "outputs": [
        {
          "output_type": "stream",
          "name": "stdout",
          "text": [
            "what is your superhero name? spiderman\n",
            "spiderman\n"
          ]
        }
      ]
    },
    {
      "cell_type": "markdown",
      "source": [
        "Type Conversion!!\n"
      ],
      "metadata": {
        "id": "djk6J97fVye9"
      }
    },
    {
      "cell_type": "code",
      "source": [
        "old_age = input(\"Enter your age: \")\n",
        "new_age = int(old_age) + 2\n",
        "print(new_age)"
      ],
      "metadata": {
        "colab": {
          "base_uri": "https://localhost:8080/"
        },
        "id": "K5f8Vl_9V674",
        "outputId": "0a9fe3a9-e540-4721-f478-c18ca326ecbc"
      },
      "execution_count": 5,
      "outputs": [
        {
          "output_type": "stream",
          "name": "stdout",
          "text": [
            "Enter your age: 21\n",
            "23\n"
          ]
        }
      ]
    },
    {
      "cell_type": "code",
      "source": [
        "#useful conversion funtions\n",
        "# 1. float()\n",
        "# 2. bool()\n",
        "# 3. str()\n",
        "# 4. int()"
      ],
      "metadata": {
        "id": "dueDcZFOWiHS"
      },
      "execution_count": null,
      "outputs": []
    },
    {
      "cell_type": "code",
      "source": [
        "# code for sum of 2 numbers\n",
        "\n",
        "first_number = input(\"Enter 1st number: \")\n",
        "second_number = input(\"Enter 2nd number: \")\n",
        "sum = float(first_number) + float(second_number)\n",
        "\n",
        "print(\"the sum is : \" + str(sum))"
      ],
      "metadata": {
        "colab": {
          "base_uri": "https://localhost:8080/"
        },
        "id": "w5AodFl4XMVn",
        "outputId": "fa6ad48d-3c54-4f0e-9291-10995b2925fb"
      },
      "execution_count": 6,
      "outputs": [
        {
          "output_type": "stream",
          "name": "stdout",
          "text": [
            "Enter 1st number: 22\n",
            "Enter 2nd number: 12\n",
            "the sum is : 34.0\n"
          ]
        }
      ]
    }
  ]
}