{
  "nbformat": 4,
  "nbformat_minor": 0,
  "metadata": {
    "colab": {
      "provenance": []
    },
    "kernelspec": {
      "name": "python3",
      "display_name": "Python 3"
    },
    "language_info": {
      "name": "python"
    }
  },
  "cells": [
    {
      "cell_type": "markdown",
      "source": [
        "Variables are used to store in the memory and defines the location of memory"
      ],
      "metadata": {
        "id": "cWrt1YJJumZQ"
      }
    },
    {
      "cell_type": "code",
      "source": [
        "#example 1\n",
        "name = \"mayuri\"\n",
        "age = 21\n",
        "print(name)\n",
        "print(age)"
      ],
      "metadata": {
        "colab": {
          "base_uri": "https://localhost:8080/"
        },
        "id": "A6BbOHWJu03n",
        "outputId": "42a9c5ca-59c4-4d24-c4ab-293c70d8f92e"
      },
      "execution_count": 1,
      "outputs": [
        {
          "output_type": "stream",
          "name": "stdout",
          "text": [
            "mayuri\n",
            "21\n"
          ]
        }
      ]
    },
    {
      "cell_type": "code",
      "source": [
        "#example 2\n",
        "name = \"mayuri\"\n",
        "age = 21\n",
        "name = \"riya\"\n",
        "age = 23\n",
        "print(name)\n",
        "print(age)\n",
        "# it will take the second name as input"
      ],
      "metadata": {
        "colab": {
          "base_uri": "https://localhost:8080/"
        },
        "id": "JMnjzP99vFqP",
        "outputId": "29167cee-6b64-46f5-9d98-5f41eb8653c0"
      },
      "execution_count": 2,
      "outputs": [
        {
          "output_type": "stream",
          "name": "stdout",
          "text": [
            "riya\n",
            "23\n"
          ]
        }
      ]
    },
    {
      "cell_type": "code",
      "source": [
        "#example 3\n",
        "first_name = \"mayuri\"\n",
        "last_name = \"pawar\"\n",
        "age = 21\n",
        "is_adult = True\n",
        "\n",
        "print(first_name + \"  \" + last_name)\n",
        "print(age)\n",
        "print(is_adult)"
      ],
      "metadata": {
        "colab": {
          "base_uri": "https://localhost:8080/"
        },
        "id": "aavWAjhwvc8j",
        "outputId": "ee488656-9c56-4c3c-e2b0-5b4280e3d1ae"
      },
      "execution_count": 7,
      "outputs": [
        {
          "output_type": "stream",
          "name": "stdout",
          "text": [
            "mayuri  pawar\n",
            "21\n",
            "True\n"
          ]
        }
      ]
    },
    {
      "cell_type": "code",
      "source": [
        "#example 4\n",
        "first_name = \"ian\"\n",
        "last_name = \"cooper\"\n",
        "age = 23\n",
        "is_genius = False\n",
        "\n",
        "print(first_name + \"  \" + last_name)\n",
        "print(age)\n",
        "print(is_genius)\n",
        "#boolean defines value is true or false"
      ],
      "metadata": {
        "colab": {
          "base_uri": "https://localhost:8080/"
        },
        "id": "WOpfkUE8wG9u",
        "outputId": "ff78dd77-627a-4ee2-8d32-e728f8c8366f"
      },
      "execution_count": 8,
      "outputs": [
        {
          "output_type": "stream",
          "name": "stdout",
          "text": [
            "ian  cooper\n",
            "23\n",
            "False\n"
          ]
        }
      ]
    }
  ]
}